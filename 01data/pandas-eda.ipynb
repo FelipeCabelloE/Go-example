{
 "cells": [
  {
   "cell_type": "code",
   "execution_count": 4,
   "metadata": {},
   "outputs": [],
   "source": [
    "## Because this is a simple eda, we are using the same venv from the backend\n",
    "import pandas as pd"
   ]
  },
  {
   "cell_type": "code",
   "execution_count": 5,
   "metadata": {},
   "outputs": [],
   "source": [
    "organizations = pd.read_csv(\"../01data/raw/organization_and_zones_dataset.csv\")\n",
    "df = pd.read_csv(\"../01data/raw/timeseries_dataset.csv\")\n"
   ]
  },
  {
   "cell_type": "code",
   "execution_count": 6,
   "metadata": {},
   "outputs": [
    {
     "data": {
      "text/html": [
       "<div>\n",
       "<style scoped>\n",
       "    .dataframe tbody tr th:only-of-type {\n",
       "        vertical-align: middle;\n",
       "    }\n",
       "\n",
       "    .dataframe tbody tr th {\n",
       "        vertical-align: top;\n",
       "    }\n",
       "\n",
       "    .dataframe thead th {\n",
       "        text-align: right;\n",
       "    }\n",
       "</style>\n",
       "<table border=\"1\" class=\"dataframe\">\n",
       "  <thead>\n",
       "    <tr style=\"text-align: right;\">\n",
       "      <th></th>\n",
       "      <th>organization</th>\n",
       "      <th>zone_id</th>\n",
       "      <th>zone</th>\n",
       "      <th>polygon_decoded</th>\n",
       "    </tr>\n",
       "  </thead>\n",
       "  <tbody>\n",
       "    <tr>\n",
       "      <th>0</th>\n",
       "      <td>gsinima</td>\n",
       "      <td>25</td>\n",
       "      <td>caldera</td>\n",
       "      <td>-70.87416271129088,-27.014335684429216;-70.834...</td>\n",
       "    </tr>\n",
       "    <tr>\n",
       "      <th>1</th>\n",
       "      <td>adasa</td>\n",
       "      <td>27</td>\n",
       "      <td>antofagasta</td>\n",
       "      <td>-70.42940139770508,-23.534481206739827;-70.431...</td>\n",
       "    </tr>\n",
       "  </tbody>\n",
       "</table>\n",
       "</div>"
      ],
      "text/plain": [
       "  organization  zone_id         zone  \\\n",
       "0      gsinima       25      caldera   \n",
       "1        adasa       27  antofagasta   \n",
       "\n",
       "                                     polygon_decoded  \n",
       "0  -70.87416271129088,-27.014335684429216;-70.834...  \n",
       "1  -70.42940139770508,-23.534481206739827;-70.431...  "
      ]
     },
     "execution_count": 6,
     "metadata": {},
     "output_type": "execute_result"
    }
   ],
   "source": [
    "organizations.head()"
   ]
  },
  {
   "cell_type": "code",
   "execution_count": 6,
   "metadata": {},
   "outputs": [
    {
     "data": {
      "text/html": [
       "<div>\n",
       "<style scoped>\n",
       "    .dataframe tbody tr th:only-of-type {\n",
       "        vertical-align: middle;\n",
       "    }\n",
       "\n",
       "    .dataframe tbody tr th {\n",
       "        vertical-align: top;\n",
       "    }\n",
       "\n",
       "    .dataframe thead th {\n",
       "        text-align: right;\n",
       "    }\n",
       "</style>\n",
       "<table border=\"1\" class=\"dataframe\">\n",
       "  <thead>\n",
       "    <tr style=\"text-align: right;\">\n",
       "      <th></th>\n",
       "      <th>timestamp</th>\n",
       "      <th>variable</th>\n",
       "      <th>organization</th>\n",
       "      <th>value</th>\n",
       "      <th>ingestion_time</th>\n",
       "    </tr>\n",
       "  </thead>\n",
       "  <tbody>\n",
       "    <tr>\n",
       "      <th>0</th>\n",
       "      <td>2024-04-13 12:00:00.000000 UTC</td>\n",
       "      <td>CHL-01</td>\n",
       "      <td>adasa</td>\n",
       "      <td>1.451352</td>\n",
       "      <td>2024-04-14 00:00:00.000000 UTC</td>\n",
       "    </tr>\n",
       "    <tr>\n",
       "      <th>1</th>\n",
       "      <td>2024-04-13 12:00:00.000000 UTC</td>\n",
       "      <td>SPM-01</td>\n",
       "      <td>adasa</td>\n",
       "      <td>3.337477</td>\n",
       "      <td>2024-04-14 00:00:00.000000 UTC</td>\n",
       "    </tr>\n",
       "    <tr>\n",
       "      <th>2</th>\n",
       "      <td>2024-04-13 12:00:00.000000 UTC</td>\n",
       "      <td>CHL-01</td>\n",
       "      <td>gsinima</td>\n",
       "      <td>1.010194</td>\n",
       "      <td>2024-04-14 00:00:00.000000 UTC</td>\n",
       "    </tr>\n",
       "    <tr>\n",
       "      <th>3</th>\n",
       "      <td>2024-04-13 12:00:00.000000 UTC</td>\n",
       "      <td>SPM-01</td>\n",
       "      <td>gsinima</td>\n",
       "      <td>NaN</td>\n",
       "      <td>2024-04-14 00:00:00.000000 UTC</td>\n",
       "    </tr>\n",
       "    <tr>\n",
       "      <th>4</th>\n",
       "      <td>2024-04-12 12:00:00.000000 UTC</td>\n",
       "      <td>SPM-01</td>\n",
       "      <td>adasa</td>\n",
       "      <td>0.949812</td>\n",
       "      <td>2024-04-13 00:00:00.000000 UTC</td>\n",
       "    </tr>\n",
       "  </tbody>\n",
       "</table>\n",
       "</div>"
      ],
      "text/plain": [
       "                        timestamp variable organization     value  \\\n",
       "0  2024-04-13 12:00:00.000000 UTC   CHL-01        adasa  1.451352   \n",
       "1  2024-04-13 12:00:00.000000 UTC   SPM-01        adasa  3.337477   \n",
       "2  2024-04-13 12:00:00.000000 UTC   CHL-01      gsinima  1.010194   \n",
       "3  2024-04-13 12:00:00.000000 UTC   SPM-01      gsinima       NaN   \n",
       "4  2024-04-12 12:00:00.000000 UTC   SPM-01        adasa  0.949812   \n",
       "\n",
       "                   ingestion_time  \n",
       "0  2024-04-14 00:00:00.000000 UTC  \n",
       "1  2024-04-14 00:00:00.000000 UTC  \n",
       "2  2024-04-14 00:00:00.000000 UTC  \n",
       "3  2024-04-14 00:00:00.000000 UTC  \n",
       "4  2024-04-13 00:00:00.000000 UTC  "
      ]
     },
     "execution_count": 6,
     "metadata": {},
     "output_type": "execute_result"
    }
   ],
   "source": [
    "df.head()"
   ]
  },
  {
   "cell_type": "code",
   "execution_count": 20,
   "metadata": {},
   "outputs": [
    {
     "name": "stdout",
     "output_type": "stream",
     "text": [
      "<class 'pandas.core.frame.DataFrame'>\n",
      "RangeIndex: 690 entries, 0 to 689\n",
      "Data columns (total 5 columns):\n",
      " #   Column          Non-Null Count  Dtype  \n",
      "---  ------          --------------  -----  \n",
      " 0   timestamp       690 non-null    object \n",
      " 1   variable        690 non-null    object \n",
      " 2   organization    690 non-null    object \n",
      " 3   value           616 non-null    float64\n",
      " 4   ingestion_time  690 non-null    object \n",
      "dtypes: float64(1), object(4)\n",
      "memory usage: 27.1+ KB\n"
     ]
    }
   ],
   "source": [
    "df.info()"
   ]
  },
  {
   "cell_type": "code",
   "execution_count": 11,
   "metadata": {},
   "outputs": [],
   "source": [
    "df[\"timestamp\"] = pd.to_datetime(df[\"timestamp\"])"
   ]
  },
  {
   "cell_type": "code",
   "execution_count": null,
   "metadata": {},
   "outputs": [],
   "source": []
  },
  {
   "cell_type": "code",
   "execution_count": 14,
   "metadata": {},
   "outputs": [
    {
     "data": {
      "text/plain": [
       "0     2024-04-13 12:00:00+00:00\n",
       "1     2024-04-13 12:00:00+00:00\n",
       "2     2024-04-13 12:00:00+00:00\n",
       "3     2024-04-13 12:00:00+00:00\n",
       "4     2024-04-12 12:00:00+00:00\n",
       "                 ...           \n",
       "685   2023-11-08 12:00:00+00:00\n",
       "686   2023-11-07 12:00:00+00:00\n",
       "687   2023-11-07 12:00:00+00:00\n",
       "688   2023-11-07 12:00:00+00:00\n",
       "689   2023-11-07 12:00:00+00:00\n",
       "Name: timestamp, Length: 690, dtype: datetime64[ns, UTC]"
      ]
     },
     "execution_count": 14,
     "metadata": {},
     "output_type": "execute_result"
    }
   ],
   "source": []
  },
  {
   "cell_type": "code",
   "execution_count": 13,
   "metadata": {},
   "outputs": [
    {
     "data": {
      "text/plain": [
       "<Axes: >"
      ]
     },
     "execution_count": 13,
     "metadata": {},
     "output_type": "execute_result"
    },
    {
     "data": {
      "image/png": "[encoded data removed]",
      "text/plain": [
       "<Figure size 640x480 with 1 Axes>"
      ]
     },
     "metadata": {},
     "output_type": "display_data"
    }
   ],
   "source": [
    "\n",
    "df[df[\"organization\"] == \"adasa\"].plot()\n",
    "\n"
   ]
  }
 ],
 "metadata": {
  "kernelspec": {
   "display_name": "venv",
   "language": "python",
   "name": "python3"
  },
  "language_info": {
   "codemirror_mode": {
    "name": "ipython",
    "version": 3
   },
   "file_extension": ".py",
   "mimetype": "text/x-python",
   "name": "python",
   "nbconvert_exporter": "python",
   "pygments_lexer": "ipython3",
   "version": "3.12.2"
  }
 },
 "nbformat": 4,
 "nbformat_minor": 2
}
